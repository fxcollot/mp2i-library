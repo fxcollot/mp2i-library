{
 "cells": [
  {
   "cell_type": "code",
   "execution_count": 46,
   "id": "ba45d48e-e3d4-471e-81d6-818120271996",
   "metadata": {},
   "outputs": [
    {
     "name": "stdout",
     "output_type": "stream",
     "text": [
      "type 'a dynamique = { mutable tableau : 'a array; mutable taille : int; }\n",
      "val copy : 'a array -> 'a array -> unit = <fun>\n",
      "val add : int -> int dynamique -> unit = <fun>\n"
     ]
    }
   ],
   "source": [
    "#use \"tableaudynamiques.ml\""
   ]
  },
  {
   "cell_type": "code",
   "execution_count": 48,
   "id": "9aece127-4685-4cfa-805e-2abe36a9c1a9",
   "metadata": {},
   "outputs": [
    {
     "data": {
      "text/plain": [
       "val t : int dynamique =\n",
       "  {tableau = [|1; 2; 3; 4; 5; 6; 0; 0; 0; 0|]; taille = 10}\n"
      ]
     },
     "execution_count": 48,
     "metadata": {},
     "output_type": "execute_result"
    }
   ],
   "source": [
    "let t = { tableau = [|1;2;3;4;5;6;0;0;0;0|]; taille = 10 }"
   ]
  },
  {
   "cell_type": "code",
   "execution_count": 65,
   "id": "a5db898f-da98-4c81-a4f5-29fe0227462d",
   "metadata": {},
   "outputs": [
    {
     "data": {
      "text/plain": [
       "- : unit = ()\n"
      ]
     },
     "execution_count": 65,
     "metadata": {},
     "output_type": "execute_result"
    }
   ],
   "source": [
    "add 56 t;"
   ]
  },
  {
   "cell_type": "code",
   "execution_count": 66,
   "id": "45837b97-d5ce-48d3-9a2b-beea9f133661",
   "metadata": {},
   "outputs": [
    {
     "data": {
      "text/plain": [
       "- : int dynamique =\n",
       "{tableau =\n",
       "  [|1; 2; 3; 4; 5; 6; 0; 0; 0; 0; 56; 56; 56; 56; 56; 56; 56; 56; 56; 56; 56;\n",
       "    56; 56; 56; 0; 0; 0; 0; 0; 0; 0; 0; 0; 0; 0; 0; 0; 0; 0; 0|];\n",
       " taille = 24}\n"
      ]
     },
     "execution_count": 66,
     "metadata": {},
     "output_type": "execute_result"
    }
   ],
   "source": [
    "t;"
   ]
  }
 ],
 "metadata": {
  "kernelspec": {
   "display_name": "OCaml default",
   "language": "OCaml",
   "name": "ocaml-jupyter"
  },
  "language_info": {
   "codemirror_mode": "text/x-ocaml",
   "file_extension": ".ml",
   "mimetype": "text/x-ocaml",
   "name": "OCaml",
   "nbconverter_exporter": null,
   "pygments_lexer": "OCaml",
   "version": "4.08.1"
  }
 },
 "nbformat": 4,
 "nbformat_minor": 5
}
