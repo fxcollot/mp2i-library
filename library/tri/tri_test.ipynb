{
 "cells": [
  {
   "cell_type": "code",
   "execution_count": 22,
   "id": "fc024362-c3b8-4008-88a9-c4404d97cdf9",
   "metadata": {},
   "outputs": [
    {
     "name": "stdout",
     "output_type": "stream",
     "text": [
      "val concat : 'a list -> 'a list -> 'a list = <fun>\n",
      "val partition : 'a -> 'a list -> 'a list * 'a list = <fun>\n",
      "val tri_rapide : 'a list -> 'a list = <fun>\n",
      "val split : 'a list -> 'a list * 'a list = <fun>\n",
      "val fusion : 'a list -> 'a list -> 'a list = <fun>\n",
      "val tri_fusion : 'a list -> 'a list = <fun>\n"
     ]
    }
   ],
   "source": [
    "#use \"tri.ml\""
   ]
  },
  {
   "cell_type": "code",
   "execution_count": 10,
   "id": "cd1d2697-2bee-4270-832c-e913996f59e8",
   "metadata": {},
   "outputs": [
    {
     "data": {
      "text/plain": [
       "val l : int list = [1; 7; 8; 5; 2; 3; 1; 4; 5; 2; 6; 9; 73]\n"
      ]
     },
     "execution_count": 10,
     "metadata": {},
     "output_type": "execute_result"
    }
   ],
   "source": [
    "let l = [1;7;8;5;2;3;1;4;5;2;6;9;73]"
   ]
  },
  {
   "cell_type": "code",
   "execution_count": 8,
   "id": "3acb76ff-4f97-40e7-89f5-86738478b373",
   "metadata": {},
   "outputs": [
    {
     "data": {
      "text/plain": [
       "- : int list = [1; 1; 2; 2; 3; 4; 5; 5; 6; 7; 8; 9; 73]\n"
      ]
     },
     "execution_count": 8,
     "metadata": {},
     "output_type": "execute_result"
    }
   ],
   "source": [
    "tri_fusion l"
   ]
  },
  {
   "cell_type": "code",
   "execution_count": 23,
   "id": "6ed6b085-b2c4-45af-96de-9306f9bb8397",
   "metadata": {},
   "outputs": [
    {
     "data": {
      "text/plain": [
       "- : int list = [1; 1; 2; 2; 3; 4; 5; 5; 6; 7; 8; 9; 73]\n"
      ]
     },
     "execution_count": 23,
     "metadata": {},
     "output_type": "execute_result"
    }
   ],
   "source": [
    "tri_rapide l"
   ]
  }
 ],
 "metadata": {
  "kernelspec": {
   "display_name": "OCaml default",
   "language": "OCaml",
   "name": "ocaml-jupyter"
  },
  "language_info": {
   "codemirror_mode": "text/x-ocaml",
   "file_extension": ".ml",
   "mimetype": "text/x-ocaml",
   "name": "OCaml",
   "nbconverter_exporter": null,
   "pygments_lexer": "OCaml",
   "version": "4.08.1"
  }
 },
 "nbformat": 4,
 "nbformat_minor": 5
}
