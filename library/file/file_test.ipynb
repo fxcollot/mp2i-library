{
 "cells": [
  {
   "cell_type": "code",
   "execution_count": 8,
   "id": "667fd180-bebf-4346-86c9-b7c297bb3079",
   "metadata": {},
   "outputs": [
    {
     "name": "stdout",
     "output_type": "stream",
     "text": [
      "type 'a file = { l1 : 'a list; l2 : 'a list; }\n",
      "val queue_empty : 'a file -> bool = <fun>\n",
      "val queue_add : 'a file -> 'a -> 'a file = <fun>\n",
      "val queue_pop : 'a file -> 'a * 'a file = <fun>\n"
     ]
    }
   ],
   "source": [
    "#use \"file.ml\""
   ]
  },
  {
   "cell_type": "code",
   "execution_count": 9,
   "id": "2b662d13-392f-4e4e-b489-f4df97cabb26",
   "metadata": {},
   "outputs": [
    {
     "data": {
      "text/plain": [
       "val file : int file = {l1 = [1; 2; 3; 4; 5; 6]; l2 = [10; 9; 8; 7]}\n"
      ]
     },
     "execution_count": 9,
     "metadata": {},
     "output_type": "execute_result"
    }
   ],
   "source": [
    "let file = { l1= [1;2;3;4;5;6]; l2= [10;9;8;7]}"
   ]
  },
  {
   "cell_type": "code",
   "execution_count": 4,
   "id": "a2952282-5106-4bb3-8f38-98881006f5b8",
   "metadata": {},
   "outputs": [
    {
     "data": {
      "text/plain": [
       "- : int * int file = (1, {l1 = [2; 3; 4; 5; 6]; l2 = [10; 9; 8; 7]})\n"
      ]
     },
     "execution_count": 4,
     "metadata": {},
     "output_type": "execute_result"
    }
   ],
   "source": [
    "queue_pop file"
   ]
  },
  {
   "cell_type": "code",
   "execution_count": 10,
   "id": "51bf672c-6642-4306-9377-e2416d6e0cce",
   "metadata": {},
   "outputs": [
    {
     "data": {
      "text/plain": [
       "- : int file = {l1 = [1; 2; 3; 4; 5; 6]; l2 = [11; 10; 9; 8; 7]}\n"
      ]
     },
     "execution_count": 10,
     "metadata": {},
     "output_type": "execute_result"
    }
   ],
   "source": [
    "queue_add file 11 "
   ]
  },
  {
   "cell_type": "code",
   "execution_count": 11,
   "id": "dc2f3dfb-9780-4862-971c-9801454a396a",
   "metadata": {},
   "outputs": [
    {
     "data": {
      "text/plain": [
       "- : bool = false\n"
      ]
     },
     "execution_count": 11,
     "metadata": {},
     "output_type": "execute_result"
    }
   ],
   "source": [
    "queue_empty file"
   ]
  }
 ],
 "metadata": {
  "kernelspec": {
   "display_name": "OCaml default",
   "language": "OCaml",
   "name": "ocaml-jupyter"
  },
  "language_info": {
   "codemirror_mode": "text/x-ocaml",
   "file_extension": ".ml",
   "mimetype": "text/x-ocaml",
   "name": "OCaml",
   "nbconverter_exporter": null,
   "pygments_lexer": "OCaml",
   "version": "4.08.1"
  }
 },
 "nbformat": 4,
 "nbformat_minor": 5
}
