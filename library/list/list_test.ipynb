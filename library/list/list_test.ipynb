{
 "cells": [
  {
   "cell_type": "code",
   "execution_count": 14,
   "id": "37d080d5-39f4-4f9c-8442-3ff253c3dac1",
   "metadata": {},
   "outputs": [
    {
     "name": "stdout",
     "output_type": "stream",
     "text": [
      "val recherche : 'a list -> 'a -> bool = <fun>\n",
      "val inverse : 'a list -> 'a list = <fun>\n",
      "val taille : 'a list -> int = <fun>\n",
      "val somme : int list -> int = <fun>\n",
      "val maximum : int list -> int = <fun>\n",
      "val split : 'a list -> 'a list * 'a list = <fun>\n",
      "val concat : 'a list -> 'a list -> 'a list = <fun>\n"
     ]
    }
   ],
   "source": [
    "#use \"listlibrary.ml\""
   ]
  },
  {
   "cell_type": "code",
   "execution_count": 7,
   "id": "c094d71f-c6b4-4f45-98cc-124971707e4d",
   "metadata": {},
   "outputs": [
    {
     "data": {
      "text/plain": [
       "val l : int list = [1; 2; 3; 4; 5]\n"
      ]
     },
     "execution_count": 7,
     "metadata": {},
     "output_type": "execute_result"
    }
   ],
   "source": [
    "let l=[1;2;3;4;5] ;"
   ]
  },
  {
   "cell_type": "code",
   "execution_count": 8,
   "id": "0fa949e3-7479-4da6-b624-6cacfa488594",
   "metadata": {},
   "outputs": [
    {
     "data": {
      "text/plain": [
       "val l2 : int list = [4; 5; 6; 7; 8; 9]\n"
      ]
     },
     "execution_count": 8,
     "metadata": {},
     "output_type": "execute_result"
    }
   ],
   "source": [
    "let l2=[4;5;6;7;8;9];"
   ]
  },
  {
   "cell_type": "code",
   "execution_count": 3,
   "id": "a17ede92-0c47-40c7-9f47-30cca6736d99",
   "metadata": {},
   "outputs": [
    {
     "data": {
      "text/plain": [
       "- : bool = true\n"
      ]
     },
     "execution_count": 3,
     "metadata": {},
     "output_type": "execute_result"
    }
   ],
   "source": [
    "recherche l 4"
   ]
  },
  {
   "cell_type": "code",
   "execution_count": 4,
   "id": "48ee8452-13ae-416e-8536-22939258e2f8",
   "metadata": {},
   "outputs": [
    {
     "data": {
      "text/plain": [
       "- : int list = [5; 4; 3; 2; 1]\n"
      ]
     },
     "execution_count": 4,
     "metadata": {},
     "output_type": "execute_result"
    }
   ],
   "source": [
    "inverse l"
   ]
  },
  {
   "cell_type": "code",
   "execution_count": 9,
   "id": "1843ef72-9287-41c2-8b67-b076337e47ff",
   "metadata": {},
   "outputs": [
    {
     "data": {
      "text/plain": [
       "- : int = 5\n"
      ]
     },
     "execution_count": 9,
     "metadata": {},
     "output_type": "execute_result"
    }
   ],
   "source": [
    "taille l;"
   ]
  },
  {
   "cell_type": "code",
   "execution_count": 10,
   "id": "931f9c1f-0f79-4ec7-b8e1-a0442dbd4e36",
   "metadata": {},
   "outputs": [
    {
     "data": {
      "text/plain": [
       "- : int = 15\n"
      ]
     },
     "execution_count": 10,
     "metadata": {},
     "output_type": "execute_result"
    }
   ],
   "source": [
    "somme l;"
   ]
  },
  {
   "cell_type": "code",
   "execution_count": 11,
   "id": "101945d1-2ef1-4793-b648-2070485cd989",
   "metadata": {},
   "outputs": [
    {
     "data": {
      "text/plain": [
       "- : int = 5\n"
      ]
     },
     "execution_count": 11,
     "metadata": {},
     "output_type": "execute_result"
    }
   ],
   "source": [
    "maximum l;"
   ]
  },
  {
   "cell_type": "code",
   "execution_count": 15,
   "id": "2a509dd2-317e-4c69-a5bb-9a5975b8c367",
   "metadata": {},
   "outputs": [
    {
     "data": {
      "text/plain": [
       "- : int list * int list = ([1; 3; 5], [2; 4])\n"
      ]
     },
     "execution_count": 15,
     "metadata": {},
     "output_type": "execute_result"
    }
   ],
   "source": [
    "split l;"
   ]
  },
  {
   "cell_type": "code",
   "execution_count": 16,
   "id": "c562bed6-2ba7-4eff-8721-a330aa1084cc",
   "metadata": {},
   "outputs": [
    {
     "data": {
      "text/plain": [
       "- : int list = [1; 2; 3; 4; 4; 5; 5; 6; 7; 8; 9]\n"
      ]
     },
     "execution_count": 16,
     "metadata": {},
     "output_type": "execute_result"
    }
   ],
   "source": [
    "concat l l2;"
   ]
  }
 ],
 "metadata": {
  "kernelspec": {
   "display_name": "OCaml default",
   "language": "OCaml",
   "name": "ocaml-jupyter"
  },
  "language_info": {
   "codemirror_mode": "text/x-ocaml",
   "file_extension": ".ml",
   "mimetype": "text/x-ocaml",
   "name": "OCaml",
   "nbconverter_exporter": null,
   "pygments_lexer": "OCaml",
   "version": "4.08.1"
  }
 },
 "nbformat": 4,
 "nbformat_minor": 5
}
