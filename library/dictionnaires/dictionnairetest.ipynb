{
 "cells": [
  {
   "cell_type": "code",
   "execution_count": 6,
   "id": "39e5618d-437e-4fc8-8a4d-a7ed3efad405",
   "metadata": {},
   "outputs": [
    {
     "name": "stdout",
     "output_type": "stream",
     "text": [
      "val create : 'a list = []\n",
      "val add : 'a -> 'a list -> 'a list = <fun>\n",
      "val del : 'a -> ('a * 'b) list -> ('a * 'b) list = <fun>\n",
      "val get : 'a -> ('a * 'b) list -> 'b list = <fun>\n"
     ]
    }
   ],
   "source": [
    "#use \"dictionnaire.ml\""
   ]
  },
  {
   "cell_type": "code",
   "execution_count": 10,
   "id": "c28cb2dc-3b8a-49d8-aecc-f1121a8d57ff",
   "metadata": {},
   "outputs": [
    {
     "data": {
      "text/plain": [
       "val dictionnaire : (int * int) list = [(2, 3); (5, 6)]\n"
      ]
     },
     "execution_count": 10,
     "metadata": {},
     "output_type": "execute_result"
    }
   ],
   "source": [
    "let dictionnaire = [(2,3);(5,6)];"
   ]
  },
  {
   "cell_type": "code",
   "execution_count": 11,
   "id": "d9c7d8db-1981-41cc-89fc-f4a1c32acb64",
   "metadata": {},
   "outputs": [
    {
     "data": {
      "text/plain": [
       "- : (int * int) list = [(1, 1); (2, 3); (5, 6)]\n"
      ]
     },
     "execution_count": 11,
     "metadata": {},
     "output_type": "execute_result"
    }
   ],
   "source": [
    "add (1,1) dictionnaire;"
   ]
  },
  {
   "cell_type": "code",
   "execution_count": 12,
   "id": "e537d025-e10a-4b11-9c38-70b8a1acc0cb",
   "metadata": {},
   "outputs": [
    {
     "data": {
      "text/plain": [
       "- : int list = [3]\n"
      ]
     },
     "execution_count": 12,
     "metadata": {},
     "output_type": "execute_result"
    }
   ],
   "source": [
    "get 2 dictionnaire;"
   ]
  },
  {
   "cell_type": "code",
   "execution_count": 13,
   "id": "8dd9dfce-9d21-4c82-a825-81dd44f42dad",
   "metadata": {},
   "outputs": [
    {
     "data": {
      "text/plain": [
       "- : (int * int) list = [(5, 6)]\n"
      ]
     },
     "execution_count": 13,
     "metadata": {},
     "output_type": "execute_result"
    }
   ],
   "source": [
    "del 2 dictionnaire;"
   ]
  },
  {
   "cell_type": "code",
   "execution_count": null,
   "id": "d6108aa8-232e-4414-929e-7af09823eec1",
   "metadata": {},
   "outputs": [],
   "source": []
  }
 ],
 "metadata": {
  "kernelspec": {
   "display_name": "OCaml default",
   "language": "OCaml",
   "name": "ocaml-jupyter"
  },
  "language_info": {
   "codemirror_mode": "text/x-ocaml",
   "file_extension": ".ml",
   "mimetype": "text/x-ocaml",
   "name": "OCaml",
   "nbconverter_exporter": null,
   "pygments_lexer": "OCaml",
   "version": "4.08.1"
  }
 },
 "nbformat": 4,
 "nbformat_minor": 5
}
