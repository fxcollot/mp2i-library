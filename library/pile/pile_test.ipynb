{
 "cells": [
  {
   "cell_type": "code",
   "execution_count": 12,
   "id": "123adb8c-f77a-45ab-a0d4-b76e23ab439a",
   "metadata": {},
   "outputs": [
    {
     "name": "stdout",
     "output_type": "stream",
     "text": [
      "val stack_empty : 'a list -> bool = <fun>\n",
      "val stack_push : 'a list -> 'a -> 'a list = <fun>\n",
      "val stack_pop : 'a list -> 'a * 'a list = <fun>\n"
     ]
    }
   ],
   "source": [
    "#use \"pile.ml\""
   ]
  },
  {
   "cell_type": "code",
   "execution_count": 2,
   "id": "77bcb966-533c-45ca-b627-a909c304168d",
   "metadata": {},
   "outputs": [
    {
     "data": {
      "text/plain": [
       "val pile : (int * int) list = [(1, 1); (2, 1); (3, 2)]\n"
      ]
     },
     "execution_count": 2,
     "metadata": {},
     "output_type": "execute_result"
    }
   ],
   "source": [
    "let pile = [ (1,1); (2,1); (3,2)]"
   ]
  },
  {
   "cell_type": "code",
   "execution_count": 3,
   "id": "ab193942-0065-43ef-a7a5-592f5386151b",
   "metadata": {},
   "outputs": [
    {
     "data": {
      "text/plain": [
       "- : bool = false\n"
      ]
     },
     "execution_count": 3,
     "metadata": {},
     "output_type": "execute_result"
    }
   ],
   "source": [
    "stack_empty pile"
   ]
  },
  {
   "cell_type": "code",
   "execution_count": 13,
   "id": "8cc133a3-85b4-4b71-8670-09529d1548b2",
   "metadata": {},
   "outputs": [
    {
     "data": {
      "text/plain": [
       "- : (int * int) * (int * int) list = ((1, 1), [(2, 1); (3, 2)])\n"
      ]
     },
     "execution_count": 13,
     "metadata": {},
     "output_type": "execute_result"
    }
   ],
   "source": [
    "stack_pop pile;"
   ]
  },
  {
   "cell_type": "code",
   "execution_count": 14,
   "id": "29acdd97-5538-425a-96ce-797d528d677c",
   "metadata": {},
   "outputs": [
    {
     "data": {
      "text/plain": [
       "- : (int * int) list = [(4, 3); (1, 1); (2, 1); (3, 2)]\n"
      ]
     },
     "execution_count": 14,
     "metadata": {},
     "output_type": "execute_result"
    }
   ],
   "source": [
    "stack_push pile (4,3)"
   ]
  }
 ],
 "metadata": {
  "kernelspec": {
   "display_name": "OCaml default",
   "language": "OCaml",
   "name": "ocaml-jupyter"
  },
  "language_info": {
   "codemirror_mode": "text/x-ocaml",
   "file_extension": ".ml",
   "mimetype": "text/x-ocaml",
   "name": "OCaml",
   "nbconverter_exporter": null,
   "pygments_lexer": "OCaml",
   "version": "4.08.1"
  }
 },
 "nbformat": 4,
 "nbformat_minor": 5
}
