{
 "cells": [
  {
   "cell_type": "code",
   "execution_count": 7,
   "id": "dcff57cd-75c7-4007-8458-196688a36a22",
   "metadata": {},
   "outputs": [
    {
     "name": "stdout",
     "output_type": "stream",
     "text": [
      "val dichotomie : 'a array -> 'a -> bool = <fun>\n",
      "val trichotomie : 'a array -> 'a -> bool = <fun>\n"
     ]
    }
   ],
   "source": [
    "#use \"recherche.ml\""
   ]
  },
  {
   "cell_type": "code",
   "execution_count": 10,
   "id": "5647ca17-72bf-4ba9-910e-f10498417774",
   "metadata": {},
   "outputs": [
    {
     "data": {
      "text/plain": [
       "val liste : int array = [|1; 2; 3; 4; 5; 6|]\n"
      ]
     },
     "execution_count": 10,
     "metadata": {},
     "output_type": "execute_result"
    }
   ],
   "source": [
    "let liste = [|1;2;3;4;5;6|]"
   ]
  },
  {
   "cell_type": "code",
   "execution_count": 11,
   "id": "3c81ac66-9df8-49f5-a669-68a53da4a5d6",
   "metadata": {},
   "outputs": [
    {
     "data": {
      "text/plain": [
       "- : bool = true\n"
      ]
     },
     "execution_count": 11,
     "metadata": {},
     "output_type": "execute_result"
    }
   ],
   "source": [
    "dichotomie liste 2;"
   ]
  },
  {
   "cell_type": "code",
   "execution_count": 12,
   "id": "0927b9b3-af39-479e-beda-1b74ad08b75d",
   "metadata": {},
   "outputs": [
    {
     "data": {
      "text/plain": [
       "- : bool = true\n"
      ]
     },
     "execution_count": 12,
     "metadata": {},
     "output_type": "execute_result"
    }
   ],
   "source": [
    "trichotomie liste 3"
   ]
  }
 ],
 "metadata": {
  "kernelspec": {
   "display_name": "OCaml default",
   "language": "OCaml",
   "name": "ocaml-jupyter"
  },
  "language_info": {
   "codemirror_mode": "text/x-ocaml",
   "file_extension": ".ml",
   "mimetype": "text/x-ocaml",
   "name": "OCaml",
   "nbconverter_exporter": null,
   "pygments_lexer": "OCaml",
   "version": "4.08.1"
  }
 },
 "nbformat": 4,
 "nbformat_minor": 5
}
